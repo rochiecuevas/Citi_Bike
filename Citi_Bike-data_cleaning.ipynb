{
 "cells": [
  {
   "cell_type": "markdown",
   "metadata": {},
   "source": [
    "## Data cleaning of Citi Bike data\n",
    "\n",
    "Includes:\n",
    "- trip duration (sec)\n",
    "- start: time and date, station ID, lat/long\n",
    "- stop: time and date, station ID, lat/long\n",
    "- bike ID\n",
    "- user type (Customer = 24-hr pass or 3-day pass; Subscriber = annual pass)\n",
    "- user gender (0 = unknown; 1 = male; 2 = female)\n",
    "- user year of birth"
   ]
  },
  {
   "cell_type": "code",
   "execution_count": 1,
   "metadata": {},
   "outputs": [],
   "source": [
    "# Import dependencies\n",
    "import pandas as pd\n",
    "import os\n",
    "import re"
   ]
  },
  {
   "cell_type": "code",
   "execution_count": 2,
   "metadata": {},
   "outputs": [],
   "source": [
    "# Get a list of file names\n",
    "path = \"Data/\"\n",
    "files = os.listdir(path)\n",
    "\n",
    "# Choose 2018 data only\n",
    "# \".*\" = any string with matching substring before the \".\"\n",
    "# \"$\" = end of string\n",
    "r = re.compile(\"2018.*\\.csv$\")\n",
    "\n",
    "# Create a new list of csv files\n",
    "newList = list(filter(r.match, files))\n",
    "newList.sort() # sorts the names"
   ]
  },
  {
   "cell_type": "code",
   "execution_count": null,
   "metadata": {},
   "outputs": [],
   "source": [
    "# Create a list of dataframes\n",
    "files = [pd.read_csv(path + file) for file in newList]"
   ]
  },
  {
   "cell_type": "code",
   "execution_count": null,
   "metadata": {
    "scrolled": true
   },
   "outputs": [],
   "source": [
    "files[0].head()"
   ]
  },
  {
   "cell_type": "code",
   "execution_count": null,
   "metadata": {},
   "outputs": [],
   "source": [
    "# Concatenate dataframes into one dataframe\n",
    "df = pd.concat(files, ignore_index = True)"
   ]
  },
  {
   "cell_type": "code",
   "execution_count": null,
   "metadata": {},
   "outputs": [],
   "source": [
    "# Drop the \"bikeid\" column\n",
    "df1 = df.drop(\"bikeid\", axis = 1)"
   ]
  },
  {
   "cell_type": "code",
   "execution_count": null,
   "metadata": {},
   "outputs": [],
   "source": [
    "# Convert data types for each column that needs conversion\n",
    "df1[[\"start station id\", \"end station id\", \"birth year\", \"gender\"]] = df1[[\"start station id\", \"end station id\", \"birth year\", \"gender\"]].astype(str)\n",
    "\n",
    "# Convert date from string to datetime format\n",
    "# Source: https://chrisalbon.com/python/basics/strings_to_datetime/\n",
    "df1 = pd.to_datetime(df1[\"starttime\", \"stoptime\"])\n",
    "\n",
    "df1.head()"
   ]
  },
  {
   "cell_type": "code",
   "execution_count": null,
   "metadata": {},
   "outputs": [],
   "source": [
    "df1.dtypes"
   ]
  }
 ],
 "metadata": {
  "kernelspec": {
   "display_name": "Python 3",
   "language": "python",
   "name": "python3"
  },
  "language_info": {
   "codemirror_mode": {
    "name": "ipython",
    "version": 3
   },
   "file_extension": ".py",
   "mimetype": "text/x-python",
   "name": "python",
   "nbconvert_exporter": "python",
   "pygments_lexer": "ipython3",
   "version": "3.6.5"
  }
 },
 "nbformat": 4,
 "nbformat_minor": 2
}
