{
 "cells": [
  {
   "cell_type": "code",
   "execution_count": 1,
   "metadata": {},
   "outputs": [],
   "source": [
    "# Import dependencies for extracting data\n",
    "import pandas as pd\n",
    "import os\n",
    "import re\n",
    "\n",
    "# Import dependencies for loading data to database\n",
    "from sqlalchemy import create_engine"
   ]
  },
  {
   "cell_type": "code",
   "execution_count": 2,
   "metadata": {},
   "outputs": [
    {
     "data": {
      "text/plain": [
       "['201801-citibike-tripdata.csv',\n",
       " '201802-citibike-tripdata.csv',\n",
       " '201803-citibike-tripdata.csv',\n",
       " '201804-citibike-tripdata.csv',\n",
       " '201805-citibike-tripdata.csv',\n",
       " '201806-citibike-tripdata.csv',\n",
       " '201807-citibike-tripdata.csv',\n",
       " '201808-citibike-tripdata.csv',\n",
       " '201809-citibike-tripdata.csv',\n",
       " '201810-citibike-tripdata.csv',\n",
       " '201811-citibike-tripdata.csv',\n",
       " '201812-citibike-tripdata.csv']"
      ]
     },
     "execution_count": 2,
     "metadata": {},
     "output_type": "execute_result"
    }
   ],
   "source": [
    "path = \"Data/\"\n",
    "\n",
    "# Create a list of file names\n",
    "files = os.listdir(path)\n",
    "\n",
    "# Select files from 2018\n",
    "r = re.compile(\"2018.*\\.csv$\")\n",
    "newList = list(filter(r.match, files))\n",
    "\n",
    "# Sort the file names by date\n",
    "newList.sort()\n",
    "newList"
   ]
  },
  {
   "cell_type": "code",
   "execution_count": 3,
   "metadata": {},
   "outputs": [],
   "source": [
    "# Function that gets chunks from a file\n",
    "chunks = []\n",
    "def getChunks(filename, chunksize = 10000):\n",
    "    TextFileReader = pd.read_csv(path + filename, header = 0, iterator = True)\n",
    "    loop = True\n",
    "    while loop:\n",
    "        try:\n",
    "            chunk = TextFileReader.get_chunk(chunksize)\n",
    "            chunks.append(chunk)\n",
    "        except StopIteration: \n",
    "            loop = False\n",
    "            print(f\"Loop for {filename} has finished.\")"
   ]
  },
  {
   "cell_type": "code",
   "execution_count": 4,
   "metadata": {},
   "outputs": [
    {
     "name": "stdout",
     "output_type": "stream",
     "text": [
      "Loop for 201801-citibike-tripdata.csv has finished.\n",
      "Loop for 201802-citibike-tripdata.csv has finished.\n",
      "Loop for 201803-citibike-tripdata.csv has finished.\n",
      "Loop for 201804-citibike-tripdata.csv has finished.\n",
      "Loop for 201805-citibike-tripdata.csv has finished.\n",
      "Loop for 201806-citibike-tripdata.csv has finished.\n",
      "Loop for 201807-citibike-tripdata.csv has finished.\n",
      "Loop for 201808-citibike-tripdata.csv has finished.\n",
      "Loop for 201809-citibike-tripdata.csv has finished.\n",
      "Loop for 201810-citibike-tripdata.csv has finished.\n",
      "Loop for 201811-citibike-tripdata.csv has finished.\n",
      "Loop for 201812-citibike-tripdata.csv has finished.\n"
     ]
    }
   ],
   "source": [
    "# Use the function getChunks for all the files in the newList\n",
    "for file in newList:\n",
    "    getChunks(file)"
   ]
  },
  {
   "cell_type": "code",
   "execution_count": 5,
   "metadata": {},
   "outputs": [
    {
     "data": {
      "text/plain": [
       "1760"
      ]
     },
     "execution_count": 5,
     "metadata": {},
     "output_type": "execute_result"
    }
   ],
   "source": [
    "len(chunks)"
   ]
  },
  {
   "cell_type": "code",
   "execution_count": 6,
   "metadata": {},
   "outputs": [
    {
     "data": {
      "text/plain": [
       "17548339"
      ]
     },
     "execution_count": 6,
     "metadata": {},
     "output_type": "execute_result"
    }
   ],
   "source": [
    "df = pd.concat(chunks, ignore_index = True)   \n",
    "len(df)"
   ]
  },
  {
   "cell_type": "code",
   "execution_count": null,
   "metadata": {},
   "outputs": [],
   "source": [
    "df.head()"
   ]
  },
  {
   "cell_type": "code",
   "execution_count": null,
   "metadata": {},
   "outputs": [],
   "source": [
    "# Calculate age\n",
    "df[\"Age\"] = df.apply(lambda row: 2018 - row[\"birth year\"], axis = 1)\n",
    "\n",
    "# Calculate trip duration (mins)\n",
    "df[\"tripDuration (mins)\"] = df.apply(lambda row: row[\"tripduration\"]/60, axis = 1)"
   ]
  },
  {
   "cell_type": "code",
   "execution_count": null,
   "metadata": {},
   "outputs": [],
   "source": [
    "print(len(df))\n",
    "df.head()"
   ]
  },
  {
   "cell_type": "code",
   "execution_count": null,
   "metadata": {},
   "outputs": [],
   "source": [
    "# Create a new column for gender type\n",
    "def genderType(row):\n",
    "    if row[\"gender\"] == 1:\n",
    "        return \"Male\"\n",
    "    elif row[\"gender\"] == 2:\n",
    "        return \"Female\"\n",
    "    else:\n",
    "        return \"Unknown\"\n",
    "    \n",
    "df[\"gender type\"] = df.apply(lambda row: genderType(row), axis = 1)"
   ]
  },
  {
   "cell_type": "code",
   "execution_count": null,
   "metadata": {},
   "outputs": [],
   "source": [
    "# Create a database\n",
    "# bikes_db = create_engine(\"sqlite:///bikes.db\")"
   ]
  }
 ],
 "metadata": {
  "kernelspec": {
   "display_name": "Python 3",
   "language": "python",
   "name": "python3"
  },
  "language_info": {
   "codemirror_mode": {
    "name": "ipython",
    "version": 3
   },
   "file_extension": ".py",
   "mimetype": "text/x-python",
   "name": "python",
   "nbconvert_exporter": "python",
   "pygments_lexer": "ipython3",
   "version": "3.6.5"
  }
 },
 "nbformat": 4,
 "nbformat_minor": 2
}
